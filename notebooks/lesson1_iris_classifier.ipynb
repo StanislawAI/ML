{
 "cells": [
  {
   "cell_type": "markdown",
   "id": "a499e0f0",
   "metadata": {},
   "source": [
    "# 🧠 Lesson 1: Iris Classifier"
   ]
  },
  {
   "cell_type": "code",
   "execution_count": null,
   "id": "32a623e9",
   "metadata": {},
   "outputs": [],
   "source": [
    "from sklearn.datasets import load_iris\n",
    "from sklearn.linear_model import LogisticRegression\n",
    "from sklearn.model_selection import train_test_split\n",
    "from sklearn.metrics import accuracy_score"
   ]
  },
  {
   "cell_type": "code",
   "execution_count": null,
   "id": "9c0299f4",
   "metadata": {},
   "outputs": [],
   "source": [
    "# Label mapping dictionary\n",
    "target_names = {\n",
    "    0: \"Setosa\",\n",
    "    1: \"Versicolor\",\n",
    "    2: \"Virginica\"\n",
    "}"
   ]
  },
  {
   "cell_type": "code",
   "execution_count": null,
   "id": "d7554131",
   "metadata": {},
   "outputs": [],
   "source": [
    "# Load dataset\n",
    "iris = load_iris()\n",
    "X_train, X_test, y_train, y_test = train_test_split(\n",
    "    iris.data, iris.target, test_size=0.2, random_state=42\n",
    ")"
   ]
  },
  {
   "cell_type": "code",
   "execution_count": null,
   "id": "b3dd6918",
   "metadata": {},
   "outputs": [],
   "source": [
    "# Train model\n",
    "model = LogisticRegression(max_iter=200)\n",
    "model.fit(X_train, y_train)"
   ]
  },
  {
   "cell_type": "code",
   "execution_count": null,
   "id": "1e33403a",
   "metadata": {},
   "outputs": [],
   "source": [
    "# Evaluate\n",
    "predictions = model.predict(X_test)\n",
    "acc = accuracy_score(y_test, predictions)\n",
    "print(f\"Accuracy: {acc:.2f}\")"
   ]
  },
  {
   "cell_type": "code",
   "execution_count": null,
   "id": "75f46341",
   "metadata": {},
   "outputs": [],
   "source": [
    "# Show sample predictions\n",
    "for actual, pred in zip(y_test[:5], predictions[:5]):\n",
    "    print(f\"Actual: {target_names[actual]} | Predicted: {target_names[pred]}\")"
   ]
  }
 ],
 "metadata": {},
 "nbformat": 4,
 "nbformat_minor": 5
}
